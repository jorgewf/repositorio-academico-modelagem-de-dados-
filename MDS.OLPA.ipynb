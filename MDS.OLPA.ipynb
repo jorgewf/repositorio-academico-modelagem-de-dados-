{
  "nbformat": 4,
  "nbformat_minor": 0,
  "metadata": {
    "colab": {
      "provenance": [],
      "authorship_tag": "ABX9TyMZDlH+TD2DMrAAtU59Q+uf"
    },
    "kernelspec": {
      "name": "python3",
      "display_name": "Python 3"
    },
    "language_info": {
      "name": "python"
    }
  },
  "cells": [
    {
      "cell_type": "code",
      "source": [
        "# Exemplo de OLAP em Python - Estoque e Vendas de um Mercado\n",
        "import pandas as pd\n",
        "\n",
        "# Criando dados fictícios de vendas\n",
        "dados = {\n",
        "    'Produto': ['Arroz', 'Feijão', 'Macarrão', 'Leite', 'Carne', 'Arroz', 'Feijão', 'Leite', 'Carne', 'Macarrão'],\n",
        "    'Categoria': ['Alimentos', 'Alimentos', 'Alimentos', 'Bebidas', 'Carnes',\n",
        "                  'Alimentos', 'Alimentos', 'Bebidas', 'Carnes', 'Alimentos'],\n",
        "    'Quantidade_Vendida': [50, 40, 30, 20, 15, 60, 35, 25, 20, 45],\n",
        "    'Preco_Unitario': [5.0, 7.0, 4.5, 3.5, 20.0, 5.0, 7.0, 3.5, 20.0, 4.5],\n",
        "    'Mes': ['Janeiro', 'Janeiro', 'Janeiro', 'Janeiro', 'Janeiro',\n",
        "            'Fevereiro', 'Fevereiro', 'Fevereiro', 'Fevereiro', 'Fevereiro']\n",
        "}\n",
        "\n",
        "# Criando DataFrame\n",
        "df = pd.DataFrame(dados)\n",
        "\n",
        "# Criando uma coluna de Faturamento (Quantidade x Preço)\n",
        "df['Faturamento'] = df['Quantidade_Vendida'] * df['Preco_Unitario']\n",
        "\n",
        "print(\"🔹 Base de dados de vendas:\")\n",
        "print(df)\n",
        "\n",
        "# ---- Análises OLAP ----\n",
        "print(\"\\n📊 Faturamento total por Categoria:\")\n",
        "analise1 = df.groupby('Categoria')['Faturamento'].sum()\n",
        "print(analise1)\n",
        "\n",
        "print(\"\\n📊 Quantidade vendida por Produto e Mês:\")\n",
        "analise2 = df.groupby(['Mes', 'Produto'])['Quantidade_Vendida'].sum().unstack(fill_value=0)\n",
        "print(analise2)\n",
        "\n",
        "print(\"\\n📊 Faturamento mensal:\")\n",
        "analise3 = df.groupby('Mes')['Faturamento'].sum()\n",
        "print(analise3)\n",
        "\n",
        "print(\"\\n📊 Ticket médio por categoria (faturamento / quantidade):\")\n",
        "analise4 = df.groupby('Categoria').apply(lambda x: x['Faturamento'].sum() / x['Quantidade_Vendida'].sum())\n",
        "print(analise4)\n",
        "\n"
      ],
      "metadata": {
        "colab": {
          "base_uri": "https://localhost:8080/"
        },
        "id": "zb1eTNDRuph4",
        "outputId": "508798bd-92e0-4cbd-8e9a-abfc48451708"
      },
      "execution_count": 3,
      "outputs": [
        {
          "output_type": "stream",
          "name": "stdout",
          "text": [
            "🔹 Base de dados de vendas:\n",
            "    Produto  Categoria  Quantidade_Vendida  Preco_Unitario        Mes  \\\n",
            "0     Arroz  Alimentos                  50             5.0    Janeiro   \n",
            "1    Feijão  Alimentos                  40             7.0    Janeiro   \n",
            "2  Macarrão  Alimentos                  30             4.5    Janeiro   \n",
            "3     Leite    Bebidas                  20             3.5    Janeiro   \n",
            "4     Carne     Carnes                  15            20.0    Janeiro   \n",
            "5     Arroz  Alimentos                  60             5.0  Fevereiro   \n",
            "6    Feijão  Alimentos                  35             7.0  Fevereiro   \n",
            "7     Leite    Bebidas                  25             3.5  Fevereiro   \n",
            "8     Carne     Carnes                  20            20.0  Fevereiro   \n",
            "9  Macarrão  Alimentos                  45             4.5  Fevereiro   \n",
            "\n",
            "   Faturamento  \n",
            "0        250.0  \n",
            "1        280.0  \n",
            "2        135.0  \n",
            "3         70.0  \n",
            "4        300.0  \n",
            "5        300.0  \n",
            "6        245.0  \n",
            "7         87.5  \n",
            "8        400.0  \n",
            "9        202.5  \n",
            "\n",
            "📊 Faturamento total por Categoria:\n",
            "Categoria\n",
            "Alimentos    1412.5\n",
            "Bebidas       157.5\n",
            "Carnes        700.0\n",
            "Name: Faturamento, dtype: float64\n",
            "\n",
            "📊 Quantidade vendida por Produto e Mês:\n",
            "Produto    Arroz  Carne  Feijão  Leite  Macarrão\n",
            "Mes                                             \n",
            "Fevereiro     60     20      35     25        45\n",
            "Janeiro       50     15      40     20        30\n",
            "\n",
            "📊 Faturamento mensal:\n",
            "Mes\n",
            "Fevereiro    1235.0\n",
            "Janeiro      1035.0\n",
            "Name: Faturamento, dtype: float64\n",
            "\n",
            "📊 Ticket médio por categoria (faturamento / quantidade):\n",
            "Categoria\n",
            "Alimentos     5.432692\n",
            "Bebidas       3.500000\n",
            "Carnes       20.000000\n",
            "dtype: float64\n"
          ]
        },
        {
          "output_type": "stream",
          "name": "stderr",
          "text": [
            "/tmp/ipython-input-107313574.py:38: DeprecationWarning: DataFrameGroupBy.apply operated on the grouping columns. This behavior is deprecated, and in a future version of pandas the grouping columns will be excluded from the operation. Either pass `include_groups=False` to exclude the groupings or explicitly select the grouping columns after groupby to silence this warning.\n",
            "  analise4 = df.groupby('Categoria').apply(lambda x: x['Faturamento'].sum() / x['Quantidade_Vendida'].sum())\n"
          ]
        }
      ]
    }
  ]
}