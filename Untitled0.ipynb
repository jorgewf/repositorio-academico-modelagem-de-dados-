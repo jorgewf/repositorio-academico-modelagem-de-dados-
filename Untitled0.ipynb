{
  "nbformat": 4,
  "nbformat_minor": 0,
  "metadata": {
    "colab": {
      "provenance": []
    },
    "kernelspec": {
      "name": "python3",
      "display_name": "Python 3"
    },
    "language_info": {
      "name": "python"
    }
  },
  "cells": [
    {
      "cell_type": "code",
      "execution_count": 1,
      "metadata": {
        "colab": {
          "base_uri": "https://localhost:8080/"
        },
        "id": "mfKXglDuObmw",
        "outputId": "102c57c9-888b-4c65-94a2-7d15372c95ec"
      },
      "outputs": [
        {
          "output_type": "stream",
          "name": "stdout",
          "text": [
            "=== Lógica Clássica ===\n",
            "AND:\n",
            "True AND False → False\n",
            "True AND True → True\n",
            "\n",
            "OR:\n",
            "True OR False → True\n",
            "False OR False → False\n",
            "\n",
            "NOT:\n",
            "NOT True → False\n",
            "NOT False → True\n"
          ]
        }
      ],
      "source": [
        "# LÓGICA CLÁSSICA\n",
        "\n",
        "# Proposições booleanas\n",
        "proposicao_A = True   # Exemplo: \"O céu está azul\"\n",
        "proposicao_B = False  # Exemplo: \"A grama é rosa\"\n",
        "\n",
        "print(\"=== Lógica Clássica ===\")\n",
        "\n",
        "# Operador AND (Conjunção)\n",
        "print(\"AND:\")\n",
        "print(f\"{proposicao_A} AND {proposicao_B} → {proposicao_A and proposicao_B}\")\n",
        "print(f\"True AND True → {True and True}\")\n",
        "\n",
        "# Operador OR (Disjunção)\n",
        "print(\"\\nOR:\")\n",
        "print(f\"{proposicao_A} OR {proposicao_B} → {proposicao_A or proposicao_B}\")\n",
        "print(f\"False OR False → {False or False}\")\n",
        "\n",
        "# Operador NOT (Negação)\n",
        "print(\"\\nNOT:\")\n",
        "print(f\"NOT {proposicao_A} → {not proposicao_A}\")\n",
        "print(f\"NOT {proposicao_B} → {not proposicao_B}\")\n"
      ]
    },
    {
      "cell_type": "code",
      "source": [
        "# LÓGICA FUZZY\n",
        "\n",
        "# Proposições com graus de verdade (entre 0.0 e 1.0)\n",
        "temperatura_quente = 0.8   # 80% verdadeiro\n",
        "cafe_morno = 0.6           # 60% verdadeiro\n",
        "temperatura_fria = 0.2     # 20% verdadeiro\n",
        "\n",
        "print(\"\\n=== Lógica Fuzzy ===\")\n",
        "\n",
        "# Operador AND (mínimo)\n",
        "print(\"AND (mínimo):\")\n",
        "print(f\"min({temperatura_quente}, {cafe_morno}) → {min(temperatura_quente, cafe_morno)}\")\n",
        "\n",
        "# Operador OR (máximo)\n",
        "print(\"\\nOR (máximo):\")\n",
        "print(f\"max({temperatura_quente}, {cafe_morno}) → {max(temperatura_quente, cafe_morno)}\")\n",
        "\n",
        "# Operador NOT (complemento)\n",
        "print(\"\\nNOT (complemento):\")\n",
        "print(f\"1.0 - {temperatura_quente} → {1.0 - temperatura_quente}\")\n",
        "print(f\"1.0 - {temperatura_fria} → {1.0 - temperatura_fria}\")\n"
      ],
      "metadata": {
        "colab": {
          "base_uri": "https://localhost:8080/"
        },
        "id": "L-XQq2b5Pt8v",
        "outputId": "34f7e1a1-38d2-4161-e06b-e861a57ac4f2"
      },
      "execution_count": 2,
      "outputs": [
        {
          "output_type": "stream",
          "name": "stdout",
          "text": [
            "\n",
            "=== Lógica Fuzzy ===\n",
            "AND (mínimo):\n",
            "min(0.8, 0.6) → 0.6\n",
            "\n",
            "OR (máximo):\n",
            "max(0.8, 0.6) → 0.8\n",
            "\n",
            "NOT (complemento):\n",
            "1.0 - 0.8 → 0.19999999999999996\n",
            "1.0 - 0.2 → 0.8\n"
          ]
        }
      ]
    },
    {
      "cell_type": "markdown",
      "metadata": {
        "id": "98337041"
      },
      "source": [
        "Primeiro, configure seu nome de usuário e e-mail do Git. Substitua `\"Seu nome\"` e `\"seu@email.com\"` pelas suas informações."
      ]
    },
    {
      "cell_type": "code",
      "metadata": {
        "id": "9e6ab64b"
      },
      "source": [
        "!git config --global user.name \"Seu nome\"\n",
        "!git config --global user.email \"seu@email.com\""
      ],
      "execution_count": 1,
      "outputs": []
    },
    {
      "cell_type": "markdown",
      "metadata": {
        "id": "66e09b8f"
      },
      "source": [
        "Em seguida, você precisará clonar seu repositório GitHub ou inicializar um novo. Se você estiver clonando um repositório existente, substitua `[URL do seu repositório]` pela URL do seu repositório. Se você estiver inicializando um novo repositório, remova o `#`."
      ]
    },
    {
      "cell_type": "code",
      "metadata": {
        "id": "2b9b598e"
      },
      "source": [
        "# !git clone [URL do seu repositório]\n",
        "# Ou\n",
        "# !git init"
      ],
      "execution_count": 2,
      "outputs": []
    },
    {
      "cell_type": "markdown",
      "metadata": {
        "id": "856e711d"
      },
      "source": [
        "Agora, adicione o arquivo do notebook (`Nome_do_seu_notebook.ipynb`) e todas as alterações pendentes ao preparo do Git. Certifique-se de substituir `Nome_do_seu_notebook.ipynb` pelo nome real do seu arquivo."
      ]
    },
    {
      "cell_type": "code",
      "metadata": {
        "colab": {
          "base_uri": "https://localhost:8080/"
        },
        "id": "8fa6f122",
        "outputId": "d557748a-bfe1-4400-abee-a47c74c1c6bf"
      },
      "source": [
        "!git add Nome_do_seu_notebook.ipynb\n",
        "# !git add .  # Para adicionar todos os arquivos alterados"
      ],
      "execution_count": 3,
      "outputs": [
        {
          "output_type": "stream",
          "name": "stdout",
          "text": [
            "fatal: not a git repository (or any of the parent directories): .git\n"
          ]
        }
      ]
    },
    {
      "cell_type": "markdown",
      "metadata": {
        "id": "253cf27c"
      },
      "source": [
        "Confirme as alterações com uma mensagem descritiva."
      ]
    },
    {
      "cell_type": "code",
      "metadata": {
        "colab": {
          "base_uri": "https://localhost:8080/"
        },
        "id": "ef2187c1",
        "outputId": "76485e3c-0101-405e-f8c3-015d6e4f1002"
      },
      "source": [
        "!git commit -m \"Adicionar notebook sobre lógica clássica e fuzzy\""
      ],
      "execution_count": 4,
      "outputs": [
        {
          "output_type": "stream",
          "name": "stdout",
          "text": [
            "fatal: not a git repository (or any of the parent directories): .git\n"
          ]
        }
      ]
    },
    {
      "cell_type": "markdown",
      "metadata": {
        "id": "868342c8"
      },
      "source": [
        "Por fim, envie suas alterações para o ramo principal (ou para o ramo em que você está trabalhando). Talvez seja necessário autenticar-se no GitHub."
      ]
    },
    {
      "cell_type": "code",
      "metadata": {
        "colab": {
          "base_uri": "https://localhost:8080/"
        },
        "id": "83261629",
        "outputId": "b701623e-c62d-4d47-9e09-08ca23e265f6"
      },
      "source": [
        "!git push origin main\n",
        "# !git push origin [seu_ramo] # Se não for o ramo principal"
      ],
      "execution_count": 5,
      "outputs": [
        {
          "output_type": "stream",
          "name": "stdout",
          "text": [
            "fatal: not a git repository (or any of the parent directories): .git\n"
          ]
        }
      ]
    }
  ]
}